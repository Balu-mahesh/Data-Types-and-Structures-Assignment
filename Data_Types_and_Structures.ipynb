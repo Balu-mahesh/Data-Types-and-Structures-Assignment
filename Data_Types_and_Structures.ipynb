{
  "nbformat": 4,
  "nbformat_minor": 0,
  "metadata": {
    "colab": {
      "provenance": []
    },
    "kernelspec": {
      "name": "python3",
      "display_name": "Python 3"
    },
    "language_info": {
      "name": "python"
    }
  },
  "cells": [
    {
      "cell_type": "markdown",
      "source": [
        "# **Data Types and Structures Theoretical Questions**"
      ],
      "metadata": {
        "id": "0fG_fXAzCkRm"
      }
    },
    {
      "cell_type": "markdown",
      "source": [
        "Q1) What are data structures, and why are they important?\n",
        "- Data structures are essential tools in Python that enable data storage, retrieval and manipulation. Data structures are specialized formats for organizing, storing and managing data so that it can be used efficiently. Data structures are a way of organizing data so that it can be accessed more efficiently depending on the situation. Some of the data structures in Python are Lists, Tuple, Sets and Dictionaries. Each type of Data Structure is optimized for specific tasks, each have specific format of organizing, processing, retrieving and storing data.\n",
        "\n",
        " **Why are they important?**\n",
        "  - To handle data efficiently: Help to store data in structured way.\n",
        "  - Improves code readability: Provides clean, readable and maintainable code.\n",
        "  - Improves performance: Make operations like searching, sorting, and updating faster.\n",
        "  - Supports complex applications: Handles complex data like trees, graphs and queues.\n",
        "  - Simplify problem solving: Many real-world problems requires structured data and specific operations.\n"
      ],
      "metadata": {
        "id": "0_7R1tZGDD9d"
      }
    },
    {
      "cell_type": "markdown",
      "source": [
        "Q2)  Explain the difference between mutable and immutable data types with examples?\n",
        "- Mutable data types are data types whose contents can be changed after it is created without changing the object's identity(memory address). We can add, remove or change elements inside that data type without changing the address of that particular object. These data types are useful when we need to store and update data frequently. Some mutable data types in Python are lists, Sets and Dictionaries."
      ],
      "metadata": {
        "id": "YSYyiGxTJB10"
      }
    },
    {
      "cell_type": "code",
      "source": [
        "# Example of mutable datatypes using a list\n",
        "\n",
        "a = [1,2,3,5]   # list is created\n",
        "a[3]=\"Four\"\n",
        "print(a)  # list is being changed, and hence can be mutated"
      ],
      "metadata": {
        "colab": {
          "base_uri": "https://localhost:8080/"
        },
        "id": "otsE3KsnKQWp",
        "outputId": "7ad004cb-f22e-4501-db1e-60b594d9bb0a"
      },
      "execution_count": null,
      "outputs": [
        {
          "output_type": "stream",
          "name": "stdout",
          "text": [
            "[1, 2, 3, 'Four']\n"
          ]
        }
      ]
    },
    {
      "cell_type": "markdown",
      "source": [
        "- Immutable data types are data types whose contents cannot be changed after it is created. We cannot add, remove or change any elements inside immutable data types. Once created, the value of these data types is permanent. Some immutable data types in Python are tuple, strings and numbers like float and interger."
      ],
      "metadata": {
        "id": "KFMxxsoMKtSV"
      }
    },
    {
      "cell_type": "code",
      "source": [
        "# Example of immutable datatypes using a tuple\n",
        "\n",
        "a=(1,2,3,4)\n",
        "a[3]=\"Four\"   # this will cause an error, tuple does not support item asssignment\n",
        "\n",
        "# tuples are immutable"
      ],
      "metadata": {
        "collapsed": true,
        "id": "LqOq8GgPK7jY"
      },
      "execution_count": null,
      "outputs": []
    },
    {
      "cell_type": "markdown",
      "source": [
        "Q3) What are the main differences between lists and tuples in Python?\n",
        "- Lists are mutable data structures in Python. While declaring lists we use square brackets and it can store hetereogeneous data inside it. Lists are mutable because lists are designed to store dynamic collection of items. Lists allows modification of content inside it. Lists are meant to store data or items that are likely to be changed or modified like to-do lists, search results, user inputs etc. Lists are slower data structure as compared to tuples.\n",
        "- Tuples are immutable data structures in Python. While declaring tuples, we use round brackets and it can also store heterogeneous data. Tuples are immutable because, they are designed for fixed collection of items that doesn't require further modifications or should not be changed accidentally. The data inside the tuple remains consistent and protected throughout the program. Tuples are faster data structure as compared to lists."
      ],
      "metadata": {
        "id": "PR6BN8j4j6Gg"
      }
    },
    {
      "cell_type": "markdown",
      "source": [
        "Q4) Describe how dictionaries store data?\n",
        "- A dictionary in Python is a built-in data structure that stores the data in key-value pairs. It allows you to associate a key with a specific value, making it ideal for fast lookups and data retrieval. All the keys inside the dictionary should be unique. The values inside the dictionary is accessed using the key associated with it. The Keys used inside the dictionary should be hashable."
      ],
      "metadata": {
        "id": "QObD8lUzoXAv"
      }
    },
    {
      "cell_type": "code",
      "source": [
        "# Below code shows how data is stored inside a dictionary\n",
        "\n",
        "dict1= { \"Name\": \"Balu\", \"Age\": 26, \"City\": \"Delhi\"}\n",
        "for i,j in dict1.items():\n",
        "  print(f\" {i} : {j}\")"
      ],
      "metadata": {
        "colab": {
          "base_uri": "https://localhost:8080/"
        },
        "id": "wFQRNLoppgVb",
        "outputId": "03a594c0-0b91-43ab-e3cd-76c385302845"
      },
      "execution_count": null,
      "outputs": [
        {
          "output_type": "stream",
          "name": "stdout",
          "text": [
            " Name : Balu\n",
            " Age : 26\n",
            " City : Delhi\n"
          ]
        }
      ]
    },
    {
      "cell_type": "markdown",
      "source": [
        "Q5) Why might you use a set instead of a list in Python?\n",
        "- Both sets and lists are used to store collection of items. Sets offers specific advantages in certain situatons. Key reasons to use sets instead of lists:\n",
        "  - No duplicate values: Sets automatically remove duplicate values inside it while lists do not. Duplicate elements are automatically removed inside a set.\n",
        "  - Faster membership testing: Sets allows the membership operator to operate faster as compared to lists. This means that checking if an element is present inside a set is much faster than checking if an element is present inside a list, especially for larger collection of data.\n",
        "  - Supports mathematical operations: Sets supports mathematical operations like union, intersection and difference, which are not available in lists.\n",
        " - Cleaner code: Using a set simplifies the logic and no need to manually check for duplicates."
      ],
      "metadata": {
        "id": "KMFYT_HYvvU_"
      }
    },
    {
      "cell_type": "markdown",
      "source": [
        "Q6) What is a string in Python, and how is it different from a list?\n",
        "- In Python, a list is a collection of items that can be of any data type and can be modified(mutable). Lists are declared using square brackets and can contain multiple elements separated by commas. While string is a sequence of characters enclosed in single or double quotes. Strings are immutable in nature, means contents of string cannot be changed after declaration. Strings have a fixed length in the memory, while lists can dynamically grow or shrink in size by adding or removing elements. Strings are useful for representing textual data, while lists are versatile data structures that can store different type of elements. Multi-line strings can also be created using triple quotes."
      ],
      "metadata": {
        "id": "uri6Ra8PyXeP"
      }
    },
    {
      "cell_type": "markdown",
      "source": [
        "Q7) How do tuples ensure data integrity in Python?\n",
        "- Tuples are immutable data structures in Python. Immutable means, once a tuple is created with some data, we cannot change its elements, add new ones, or remove any. This property makes tuples reliable containers for fixed set of values. Tuples prevent accidental modification of data ensuring the data integrity. Tuples are ideal for storing data that should remain constant throughout the program. Tuples can also be used as dictionary keys, which is useful in maintaining integrity."
      ],
      "metadata": {
        "id": "Thh7cu5_bqE9"
      }
    },
    {
      "cell_type": "markdown",
      "source": [
        "Q8) What is a hash table, and how does it relate to dictionaries in Python?\n",
        "- A hash table is data structure in Python that stores key-value pairs. It use a hash function to compute an index called a hash where the value will be stored in the memory. Hash table allows for fast data retrieval, insertion, and deletion based on key. Dictionaries in Python are implemented using hash tables. When a dictionary is declared, Python uses hash function to convert the keys into numerical indices. These indices are then used to store and retrieve the values. The keys used for declaring the dictionary should be hashable, which means they must be immutable objects like strings, tuples or numbers."
      ],
      "metadata": {
        "id": "RJVa-tjee8KU"
      }
    },
    {
      "cell_type": "markdown",
      "source": [
        "Q9) Can lists contain different data types in Python?\n",
        "- Yes, lists can contain store data with different data types. Python is dynamically typed langauge, which means variables are not restricted to a single data type. List can store integers, strings, floats, booleans, and even other lists or dictionaries within the same list."
      ],
      "metadata": {
        "id": "ucu41o5ahFwZ"
      }
    },
    {
      "cell_type": "markdown",
      "source": [
        "Q10) Explain why strings are immutable in Python.\n",
        "- In Python, strings are immutable, meaning their values cannot be changed after creation. Instead of modifying the original string, operations that appear to change it actually create a new string object. Strings are designed immutable because it allows python to optimize memory usage. This means if two strings have the same value, they can refer to the same memory location, saving space. Strings ensures data integrity and safety. Once a string is created, it cannot be altered, reducing the risk of unauthorized modifications. This prevents tampering of sensitive data like usernames and passwords."
      ],
      "metadata": {
        "id": "x7Qsl8jdil_r"
      }
    },
    {
      "cell_type": "markdown",
      "source": [
        "Q11) What advantages do dictionaries offer over lists for certain tasks?\n",
        "- Dictionaries and lists are a both powerful data structures in Python, that allows efficient storage of data. But dictionaries are more versatile data structures that stores data in the form of key-value pairs, offering fast lookups. Dictionaries in python offer fast data retrieval. Unlike lists where we have to traverse through each element to find a value, dictionaries use hash table for quick access to value based on keys. Data is easy to understand when it is stored in key-value pairs. Dictionaries are ideal for storing and accessing large datasets quickly.\n"
      ],
      "metadata": {
        "id": "0VRCLilpkZ4C"
      }
    },
    {
      "cell_type": "markdown",
      "source": [
        "Q12) Describe a scenario where using a tuple would be preferable over a list.\n",
        "- Tuples are immutable data structures in Python. Hence, they are primarily used to store data that doesn't change frequently. Tuples are preferred over lists if we want the data in the collection to be read-only, never to change, and always remain the same and constant. Data like weekdays, RGB colors or coordinates can be stored in a tuple which doesn't require any changes. Tuples are faster as compared with lists. So if we require faster data retrieval, we can use tuples over lists."
      ],
      "metadata": {
        "id": "kxuhTo9Hr1Rp"
      }
    },
    {
      "cell_type": "markdown",
      "source": [
        "Q13) How do sets handle duplicate values in Python?\n",
        "- Sets in Python are designed to store only unique elements. When we add a duplicate element to a set, it simply ignores the duplicate and retains only one instance of that value. Basically, sets are unordered collection of distinct items just like we studied in mathematics. Sets maintain uniqueness by using a hashing mechanism, that allows for efficient lookup and prevents the inclusion of duplicate values."
      ],
      "metadata": {
        "id": "kDInnM6Rvwha"
      }
    },
    {
      "cell_type": "markdown",
      "source": [
        "Q14) How does the “in” keyword work differently for lists and dictionaries?\n",
        "- The \"in\" operator when used with lists, it checks if a value exists in the list or not. The \"in\" operator performs a linear search and it checks each element one by one until it finds a match increasing time.\n",
        "- The \"in\" operator when used with dictionaries, it checks only the keys, not the values. As dictionaries use hash tables, so key lookups are very fast and \"in\" operator works very fast as compared to lists."
      ],
      "metadata": {
        "id": "nj_UaksoyMYs"
      }
    },
    {
      "cell_type": "markdown",
      "source": [
        "Q15) Can you modify the elements of a tuple? Explain why or why not?\n",
        "- No, we cannot modify the elements of the tuple. Because tuples are immutable data structures in python, meaning their contents cannot be changed, added to, or removed from once they are defined. This immutable nature of the tuple ensures that the data within the tuple remains consistent and predictable throughout the program."
      ],
      "metadata": {
        "id": "4rlbSZ2pzVoa"
      }
    },
    {
      "cell_type": "markdown",
      "source": [
        "Q16) What is a nested dictionary, and give an example of its use case?\n",
        "- A nested dictionary in Python is a dictionary where the values are themselves dictionaries. It allows you to represent structured data like tables or trees. This is very common in data analysis, databases, real-world apps etc.\n",
        "One use case can be storing the information of the students of a particular class.\n",
        "For eg:"
      ],
      "metadata": {
        "id": "Ap8JDkgc3Ef0"
      }
    },
    {
      "cell_type": "code",
      "source": [
        "# use case of nested dictionary\n",
        "\n",
        "student_10= {\"101\":{\"Name\":\"Balu\",\"Age\":26,\"City\":\"New Delhi\"},               # storing information of students of class 10 with nested dictionary\n",
        "              \"102\":{\"Name\":\"Adarsh\",\"Age\":26,\"City\":\"New Delhi\"},\n",
        "              \"103\":{\"Name\":\"Rahul\",\"Age\":26,\"City\":\"Mumbai\"}}\n",
        "print(student_10[\"102\"][\"Name\"])         # accessing the details\n"
      ],
      "metadata": {
        "colab": {
          "base_uri": "https://localhost:8080/"
        },
        "id": "TMh_ftZW5zlV",
        "outputId": "e5724443-99bb-409c-a68c-e4fd7a938165"
      },
      "execution_count": null,
      "outputs": [
        {
          "output_type": "stream",
          "name": "stdout",
          "text": [
            "Adarsh\n"
          ]
        }
      ]
    },
    {
      "cell_type": "markdown",
      "source": [
        "Q17) Describe the time complexity of accessing elements in a dictionary.\n",
        "- Accessing elements in a dictionary typically takes constant time regardless of the dictionary's size. This is because, dictionaries use hash table , which allows for direct lookups of elements based on their key. The time complexity of dictionary is O(1) means it directly searches the key and displays the value rather than traversing every element like lists or tuples. Even for large dictionaries with thousands or millions of items, lookups happens very fast and this is one of the reason why dictionaries are heavily used in Python."
      ],
      "metadata": {
        "id": "uoTssFG69ZY_"
      }
    },
    {
      "cell_type": "markdown",
      "source": [
        "Q18) In what situations are lists preferred over dictionaries?\n",
        "- List are preferred over dictionaries when:\n",
        "  - we need to preserve the sequence in which the items are added.\n",
        "  - we need to iterate through items in a specific order.\n",
        "  - we need to store a collection of items without the need of keys.\n",
        "  - we need to store dynamic data\n",
        "  - the data needs to be easily added, removed or modified."
      ],
      "metadata": {
        "id": "npYFeVesAEGe"
      }
    },
    {
      "cell_type": "markdown",
      "source": [
        "Q19) Why are dictionaries considered unordered, and how does that affect data retrieval?\n",
        "- A dictionary is termed as unordered collection of objects because dictionaries do not maintain any inherent order of the items based on when they were added. Dictionaries did not preserve insertion order at all. This meant that when you accessed or printed the items, the order could vary, as dictionaries were optimized for faster lookups rather than maintaining order. The logical structutre of the dictionary is key-based not position-based, so it is considered as unordered data structure."
      ],
      "metadata": {
        "id": "fliCxqUFBgb-"
      }
    },
    {
      "cell_type": "markdown",
      "source": [
        "Q20) Explain the difference between a list and a dictionary in terms of data retrieval.\n",
        "- Data inside a list is retrieved with index number. Index is numerical value associated with every element that is stored inside the list. The index number starts from 0 and goes on till the end of the list. The logical structure of list is position-based(index-based). For example if you want to retrieve the 3rd element of the list, we would use index 2.\n",
        "- Data inside a dictionary is retrieved with the help of a key. Key is a unique identity associated with a value inside a dictionary. Dictionary uses hash table to store the data in key-value pairs. Since it is unordered, the data retrieval is done with the help of the key. For example, to retrieve the value associated with the key \"name\", you would use the key \"name\"."
      ],
      "metadata": {
        "id": "a9ZLUq5uEB2C"
      }
    },
    {
      "cell_type": "markdown",
      "source": [
        "# **Data Types and Structures Practical Questions**"
      ],
      "metadata": {
        "id": "RYrynovTth6Q"
      }
    },
    {
      "cell_type": "markdown",
      "source": [
        "Q1) Write a code to create a string with your name and print it."
      ],
      "metadata": {
        "id": "9Zj_R9Kdt75w"
      }
    },
    {
      "cell_type": "code",
      "source": [
        "name= input(\"Enter your name:\")\n",
        "print(f\"Your name is: {name}\")"
      ],
      "metadata": {
        "colab": {
          "base_uri": "https://localhost:8080/"
        },
        "id": "fHqNhWVDuD0Y",
        "outputId": "14daf26d-5f4e-4bfc-cecc-8e6f1e28aaa2"
      },
      "execution_count": null,
      "outputs": [
        {
          "output_type": "stream",
          "name": "stdout",
          "text": [
            "Enter your name:Balu\n",
            "Your name is: Balu\n"
          ]
        }
      ]
    },
    {
      "cell_type": "markdown",
      "source": [
        "Q2) Write a code to find the length of the string \"Hello World\"."
      ],
      "metadata": {
        "id": "SsUGjDvWuVt2"
      }
    },
    {
      "cell_type": "code",
      "source": [
        "string= \"Hello World\"\n",
        "print(len(string))"
      ],
      "metadata": {
        "colab": {
          "base_uri": "https://localhost:8080/"
        },
        "id": "A16vpw_uuPQv",
        "outputId": "53669880-c12f-44f7-8142-339f72218582"
      },
      "execution_count": null,
      "outputs": [
        {
          "output_type": "stream",
          "name": "stdout",
          "text": [
            "11\n"
          ]
        }
      ]
    },
    {
      "cell_type": "markdown",
      "source": [
        "Q3) Write a code to slice the first 3 characters from the string \"Python Programming\"."
      ],
      "metadata": {
        "id": "O4P5hxKCuxkJ"
      }
    },
    {
      "cell_type": "code",
      "source": [
        "string1= \"Python Programming\"\n",
        "print(string1[:3])"
      ],
      "metadata": {
        "colab": {
          "base_uri": "https://localhost:8080/"
        },
        "id": "pGDLTci2uCtt",
        "outputId": "c1a9da0c-ea88-46a7-e8af-eaa2abacf878"
      },
      "execution_count": null,
      "outputs": [
        {
          "output_type": "stream",
          "name": "stdout",
          "text": [
            "Pyt\n"
          ]
        }
      ]
    },
    {
      "cell_type": "markdown",
      "source": [
        "Q4) Write a code to convert the string \"hello\" to uppercase."
      ],
      "metadata": {
        "id": "8Qjh5fvfvLki"
      }
    },
    {
      "cell_type": "code",
      "source": [
        "string2= \"hello\"\n",
        "print(string2.upper())"
      ],
      "metadata": {
        "colab": {
          "base_uri": "https://localhost:8080/"
        },
        "id": "vlkbLRsMvPWy",
        "outputId": "f0514177-aac5-426e-e3bc-7ce2427cf4cc"
      },
      "execution_count": null,
      "outputs": [
        {
          "output_type": "stream",
          "name": "stdout",
          "text": [
            "HELLO\n"
          ]
        }
      ]
    },
    {
      "cell_type": "markdown",
      "source": [
        "Q5) Write a code to replace the word \"apple\" with \"orange\" in the string \"I like apple\"."
      ],
      "metadata": {
        "id": "UIxEX-rcvfCf"
      }
    },
    {
      "cell_type": "code",
      "source": [
        "string3= \"I like apple\"\n",
        "print(f\"Original sentence: {string3}\")\n",
        "new_str=string3.replace(\"apple\",\"orange\")\n",
        "print(f\"New sentence: {new_str}\")"
      ],
      "metadata": {
        "colab": {
          "base_uri": "https://localhost:8080/"
        },
        "id": "AUrp9CmHvh4s",
        "outputId": "643f9207-3ff3-43c2-8606-c2706785580d"
      },
      "execution_count": 1,
      "outputs": [
        {
          "output_type": "stream",
          "name": "stdout",
          "text": [
            "Original sentence: I like apple\n",
            "New sentence: I like orange\n"
          ]
        }
      ]
    },
    {
      "cell_type": "markdown",
      "source": [
        "Q6) Write a code to create a list with numbers 1 to 5 and print it."
      ],
      "metadata": {
        "id": "-gaIWVWRwBZd"
      }
    },
    {
      "cell_type": "code",
      "source": [
        "a= [i for i in range(1,6)]\n",
        "print(\"Created list:\",a)"
      ],
      "metadata": {
        "colab": {
          "base_uri": "https://localhost:8080/"
        },
        "id": "cmslRp1jwNGS",
        "outputId": "1ad51a2e-10a2-4477-d241-2d752eab276a"
      },
      "execution_count": null,
      "outputs": [
        {
          "output_type": "stream",
          "name": "stdout",
          "text": [
            "Created list: [1, 2, 3, 4, 5]\n"
          ]
        }
      ]
    },
    {
      "cell_type": "markdown",
      "source": [
        "Q7) Write a code to append the number 10 to the list [1,2,3,4]."
      ],
      "metadata": {
        "id": "4KoFgMfGx9mY"
      }
    },
    {
      "cell_type": "code",
      "source": [
        "b=[1,2,3,4]\n",
        "print(\"Old list:\",b)\n",
        "b.append(10)\n",
        "print(\"Appended list:\",b)"
      ],
      "metadata": {
        "colab": {
          "base_uri": "https://localhost:8080/"
        },
        "id": "bnPHZTGPyD5h",
        "outputId": "7cd8e31a-3f2c-432c-a803-0b192cc8242a"
      },
      "execution_count": null,
      "outputs": [
        {
          "output_type": "stream",
          "name": "stdout",
          "text": [
            "Old list: [1, 2, 3, 4]\n",
            "Appended list: [1, 2, 3, 4, 10]\n"
          ]
        }
      ]
    },
    {
      "cell_type": "markdown",
      "source": [
        "Q8) Write a code to remove the number 3 from the list [1, 2, 3, 4, 5]."
      ],
      "metadata": {
        "id": "nF7R2QFCyefA"
      }
    },
    {
      "cell_type": "code",
      "source": [
        "c= [1,2,3,4,5]\n",
        "print(\"Old list:\",c)\n",
        "c.remove(3)\n",
        "print(\"New list:\",c)"
      ],
      "metadata": {
        "colab": {
          "base_uri": "https://localhost:8080/"
        },
        "id": "kCVJwAa3yjTC",
        "outputId": "81f28349-046e-4343-ccf4-d48634450ec2"
      },
      "execution_count": null,
      "outputs": [
        {
          "output_type": "stream",
          "name": "stdout",
          "text": [
            "Old list: [1, 2, 3, 4, 5]\n",
            "New list: [1, 2, 4, 5]\n"
          ]
        }
      ]
    },
    {
      "cell_type": "markdown",
      "source": [
        "Q9) Write a code to access the second element in the list ['a', 'b', 'c', 'd']."
      ],
      "metadata": {
        "id": "G8qzaJ-Ey-ry"
      }
    },
    {
      "cell_type": "code",
      "source": [
        "new_list= [\"a\",\"b\",\"c\",\"d\"]\n",
        "print(f\"Second element of the list {new_list} is:\",new_list[1])"
      ],
      "metadata": {
        "colab": {
          "base_uri": "https://localhost:8080/"
        },
        "id": "hKg5jqcDzCMM",
        "outputId": "b4500b71-8d4d-4c01-94cf-2c913d8298bf"
      },
      "execution_count": null,
      "outputs": [
        {
          "output_type": "stream",
          "name": "stdout",
          "text": [
            "Second element of the list ['a', 'b', 'c', 'd'] is: b\n"
          ]
        }
      ]
    },
    {
      "cell_type": "markdown",
      "source": [
        "Q10) Write a code to reverse the list [10, 20, 30, 40, 50]."
      ],
      "metadata": {
        "id": "xNmDKmfQ0NAf"
      }
    },
    {
      "cell_type": "code",
      "source": [
        "d= [10,20,30,40,50]\n",
        "e=d.copy()\n",
        "d.reverse()\n",
        "print(f\"List {e} in reverse order:\",d)"
      ],
      "metadata": {
        "colab": {
          "base_uri": "https://localhost:8080/"
        },
        "id": "lNOt5wq00R0Q",
        "outputId": "cc372481-a99a-4d06-a8f9-a0e0e89f5eef"
      },
      "execution_count": null,
      "outputs": [
        {
          "output_type": "stream",
          "name": "stdout",
          "text": [
            "List [10, 20, 30, 40, 50] in reverse order: [50, 40, 30, 20, 10]\n"
          ]
        }
      ]
    },
    {
      "cell_type": "markdown",
      "source": [
        "Q11)  Write a code to create a tuple with the elements 100, 200, 300 and print it."
      ],
      "metadata": {
        "id": "vbBYcnE41uCR"
      }
    },
    {
      "cell_type": "code",
      "source": [
        "g=(100,200,300)\n",
        "print(f\"Created Tuple: {g}\")"
      ],
      "metadata": {
        "colab": {
          "base_uri": "https://localhost:8080/"
        },
        "id": "mi6zsLCa1jj1",
        "outputId": "be6fe2a2-913b-4926-f192-7bfa82aff08d"
      },
      "execution_count": null,
      "outputs": [
        {
          "output_type": "stream",
          "name": "stdout",
          "text": [
            "Created Tuple: (100, 200, 300)\n"
          ]
        }
      ]
    },
    {
      "cell_type": "markdown",
      "source": [
        "Q12) Write a code to access the second-to-last element of the tuple ('red', 'green', 'blue', 'yellow')."
      ],
      "metadata": {
        "id": "M3UAzAxS2jQd"
      }
    },
    {
      "cell_type": "code",
      "source": [
        "tup= (\"red\",\"green\",\"blue\",\"yellow\")\n",
        "print(f\"Second last element of the tuple {tup} is:\",tup[-2])"
      ],
      "metadata": {
        "colab": {
          "base_uri": "https://localhost:8080/"
        },
        "id": "ETvMFvzQ2b7d",
        "outputId": "8fb8658e-7517-462f-c44c-5b4f1db927f3"
      },
      "execution_count": null,
      "outputs": [
        {
          "output_type": "stream",
          "name": "stdout",
          "text": [
            "Second last element of the tuple ('red', 'green', 'blue', 'yellow') is: blue\n"
          ]
        }
      ]
    },
    {
      "cell_type": "markdown",
      "source": [
        "Q13) Write a code to find the minimum number in the tuple (10, 20, 5, 15)."
      ],
      "metadata": {
        "id": "nA6RjjoP23CP"
      }
    },
    {
      "cell_type": "code",
      "source": [
        "tup1 = (10,20,5,15)\n",
        "min=tup1[0]\n",
        "for j in tup1:\n",
        "  if min>j:\n",
        "    min=j\n",
        "print(f\"The minimum number in the tuple {tup1} is: {min}\")"
      ],
      "metadata": {
        "colab": {
          "base_uri": "https://localhost:8080/"
        },
        "id": "211SDc4G29UQ",
        "outputId": "978f9f21-62bb-4d43-d863-c63d43ea5ace"
      },
      "execution_count": null,
      "outputs": [
        {
          "output_type": "stream",
          "name": "stdout",
          "text": [
            "The minimum number in the tuple (10, 20, 5, 15) is: 5\n"
          ]
        }
      ]
    },
    {
      "cell_type": "markdown",
      "source": [
        "Q14) Write a code to find the index of the element \"cat\" in the tuple ('dog', 'cat', 'rabbit')."
      ],
      "metadata": {
        "id": "TXLigRui32zS"
      }
    },
    {
      "cell_type": "code",
      "source": [
        "tup= (\"dog\",\"cat\",\"rabbit\")\n",
        "print(f\"The index of word 'cat' in the tuple {tup} is:\", tup.index(\"cat\"))"
      ],
      "metadata": {
        "colab": {
          "base_uri": "https://localhost:8080/"
        },
        "id": "b6P2Ctej3ntE",
        "outputId": "069b58c1-e3a3-491f-99be-b4230582ea09"
      },
      "execution_count": null,
      "outputs": [
        {
          "output_type": "stream",
          "name": "stdout",
          "text": [
            "The index of word 'cat' in the tuple ('dog', 'cat', 'rabbit') is: 1\n"
          ]
        }
      ]
    },
    {
      "cell_type": "markdown",
      "source": [
        "Q15)  Write a code to create a tuple containing three different fruits and check if \"kiwi\" is in it."
      ],
      "metadata": {
        "id": "f8bYDB4j4nvG"
      }
    },
    {
      "cell_type": "code",
      "source": [
        "tup = (\"apple\",\"mango\",\"kiwi\")\n",
        "if \"kiwi\" in tup:\n",
        "  print(f\"kiwi is present inside the tuple {tup}.\")\n",
        "else:\n",
        "  print(f\"kiwi is not present inside the tuple {tup}.\")"
      ],
      "metadata": {
        "colab": {
          "base_uri": "https://localhost:8080/"
        },
        "id": "JOugWVa24rvd",
        "outputId": "3c307c4d-3409-46ff-cff1-e00eb5995343"
      },
      "execution_count": null,
      "outputs": [
        {
          "output_type": "stream",
          "name": "stdout",
          "text": [
            "kiwi is present inside the tuple ('apple', 'mango', 'kiwi').\n"
          ]
        }
      ]
    },
    {
      "cell_type": "markdown",
      "source": [
        "Q16) Write a code to create a set with the elements 'a', 'b', 'c' and print it."
      ],
      "metadata": {
        "id": "fBsoORvo5KhG"
      }
    },
    {
      "cell_type": "code",
      "source": [
        "set1= {'a','b','c'}\n",
        "print(f\"Created Set: {set1}\")"
      ],
      "metadata": {
        "colab": {
          "base_uri": "https://localhost:8080/"
        },
        "id": "hBzzfxrH5Pyn",
        "outputId": "90471d83-443a-4514-cc8b-410f249c72d1"
      },
      "execution_count": null,
      "outputs": [
        {
          "output_type": "stream",
          "name": "stdout",
          "text": [
            "Created Set: {'a', 'b', 'c'}\n"
          ]
        }
      ]
    },
    {
      "cell_type": "markdown",
      "source": [
        "Q17) Write a code to clear all elements from the set {1, 2, 3, 4, 5}."
      ],
      "metadata": {
        "id": "Np6wXyMB5cOw"
      }
    },
    {
      "cell_type": "code",
      "source": [
        "set1 = {1,2,3,4,5}\n",
        "set1.clear()    # deletes all the elements inside the set"
      ],
      "metadata": {
        "colab": {
          "base_uri": "https://localhost:8080/"
        },
        "id": "eP7-OR2X5ecX",
        "outputId": "3cfb2e84-fc3a-4907-cafd-9c2057316a27"
      },
      "execution_count": null,
      "outputs": [
        {
          "output_type": "stream",
          "name": "stdout",
          "text": [
            "set()\n"
          ]
        }
      ]
    },
    {
      "cell_type": "markdown",
      "source": [
        "Q18) Write a code to remove the element 4 from the set {1, 2, 3, 4}."
      ],
      "metadata": {
        "id": "_GTlBFdI5zKT"
      }
    },
    {
      "cell_type": "code",
      "source": [
        "set1= {1,2,3,4}\n",
        "print(\"Old set:\",set1)\n",
        "set1.discard(4)\n",
        "print(\"New set:\",set1)"
      ],
      "metadata": {
        "colab": {
          "base_uri": "https://localhost:8080/"
        },
        "id": "KyoOtheE5XfA",
        "outputId": "1674a64e-af25-4b0d-e134-60aa020b4c97"
      },
      "execution_count": null,
      "outputs": [
        {
          "output_type": "stream",
          "name": "stdout",
          "text": [
            "Old set: {1, 2, 3, 4}\n",
            "New set: {1, 2, 3}\n"
          ]
        }
      ]
    },
    {
      "cell_type": "markdown",
      "source": [
        "Q19) Write a code to find the union of two sets {1, 2, 3} and {3, 4, 5}."
      ],
      "metadata": {
        "id": "1OYjvYzJ6Mcp"
      }
    },
    {
      "cell_type": "code",
      "source": [
        "a,b = {1,2,3},{3,4,5}\n",
        "print(f\"Union of set {a} and set {b} is:\",a|b)\n"
      ],
      "metadata": {
        "colab": {
          "base_uri": "https://localhost:8080/"
        },
        "id": "1Zqvn7Pu6SgR",
        "outputId": "5c38b228-4a42-4966-a8a8-3d7ccceacde1"
      },
      "execution_count": null,
      "outputs": [
        {
          "output_type": "stream",
          "name": "stdout",
          "text": [
            "Union of set {1, 2, 3} and set {3, 4, 5} is: {1, 2, 3, 4, 5}\n"
          ]
        }
      ]
    },
    {
      "cell_type": "markdown",
      "source": [
        "Q20) Write a code to find the intersection of two sets {1, 2, 3} and {2, 3, 4}."
      ],
      "metadata": {
        "id": "LiYkqIXx6lPW"
      }
    },
    {
      "cell_type": "code",
      "source": [
        "a,b = {1,2,3},{2,3,4}\n",
        "print(f\"Intersection of set {a} and set {b} is:\",a&b)"
      ],
      "metadata": {
        "colab": {
          "base_uri": "https://localhost:8080/"
        },
        "id": "j-GUv-E06jjT",
        "outputId": "17f617fb-6b7b-4ac0-e141-106517b52a55"
      },
      "execution_count": null,
      "outputs": [
        {
          "output_type": "stream",
          "name": "stdout",
          "text": [
            "Intersection of set {1, 2, 3} and set {2, 3, 4} is: {2, 3}\n"
          ]
        }
      ]
    },
    {
      "cell_type": "markdown",
      "source": [
        "Q21) Write a code to create a dictionary with the keys \"name\", \"age\", and \"city\", and print it."
      ],
      "metadata": {
        "id": "Jr1zVhlhHT69"
      }
    },
    {
      "cell_type": "code",
      "source": [
        "dict1 = {\"Name\":\"Balu\",\"Age\":26,\"City\":\"New Delhi\"}\n",
        "print(dict1)"
      ],
      "metadata": {
        "colab": {
          "base_uri": "https://localhost:8080/"
        },
        "id": "zrET0sSRHVZB",
        "outputId": "3cc05017-24c0-415b-8d6c-ad9f538ab2df"
      },
      "execution_count": null,
      "outputs": [
        {
          "output_type": "stream",
          "name": "stdout",
          "text": [
            "{'Name': 'Balu', 'Age': 26, 'City': 'New Delhi'}\n"
          ]
        }
      ]
    },
    {
      "cell_type": "markdown",
      "source": [
        "Q22) Write a code to add a new key-value pair \"country\": \"USA\" to the dictionary {'name': 'John', 'age': 25}."
      ],
      "metadata": {
        "id": "yghIUzKRIGyi"
      }
    },
    {
      "cell_type": "code",
      "source": [
        "dict1= {\"Name\":\"John\",\"Age\":25}\n",
        "print(\"Old dictionary:\",dict1)\n",
        "dict1[\"Country\"]=\"USA\"\n",
        "print(\"Updated dictionary:\",dict1)"
      ],
      "metadata": {
        "colab": {
          "base_uri": "https://localhost:8080/"
        },
        "id": "2qanbDKNIJB-",
        "outputId": "4dc10ca6-010f-471d-e3b5-aa5cdab36e72"
      },
      "execution_count": null,
      "outputs": [
        {
          "output_type": "stream",
          "name": "stdout",
          "text": [
            "Old dictionary: {'Name': 'John', 'Age': 25}\n",
            "Updated dictionary: {'Name': 'John', 'Age': 25, 'Country': 'USA'}\n"
          ]
        }
      ]
    },
    {
      "cell_type": "markdown",
      "source": [
        "Q23) Write a code to access the value associated with the key \"name\" in the dictionary {'name': 'Alice', 'age': 30}."
      ],
      "metadata": {
        "id": "tVxHY9KSIiTk"
      }
    },
    {
      "cell_type": "code",
      "source": [
        "dict1= {\"Name\":\"Alice\",\"Age\":30}\n",
        "print(dict1[\"Name\"])"
      ],
      "metadata": {
        "colab": {
          "base_uri": "https://localhost:8080/"
        },
        "id": "hdvFLwi2ITR-",
        "outputId": "62d7130b-ce5b-4d08-c829-1c29a9d5581f"
      },
      "execution_count": null,
      "outputs": [
        {
          "output_type": "stream",
          "name": "stdout",
          "text": [
            "Alice\n"
          ]
        }
      ]
    },
    {
      "cell_type": "markdown",
      "source": [
        "Q24) Write a code to remove the key \"age\" from the dictionary {'name': 'Bob', 'age': 22, 'city': 'New York'}."
      ],
      "metadata": {
        "id": "rM_u3ZihI2nE"
      }
    },
    {
      "cell_type": "code",
      "source": [
        "dict1= {\"Name\":\"Bob\",\"Age\":22,\"City\":\"New York\"}\n",
        "dict1.pop(\"Age\")\n",
        "print(dict1)"
      ],
      "metadata": {
        "colab": {
          "base_uri": "https://localhost:8080/"
        },
        "id": "QQ09XTE_I3s4",
        "outputId": "3ef13281-1e20-435d-f361-638743f76065"
      },
      "execution_count": null,
      "outputs": [
        {
          "output_type": "stream",
          "name": "stdout",
          "text": [
            "{'Name': 'Bob', 'City': 'New York'}\n"
          ]
        }
      ]
    },
    {
      "cell_type": "markdown",
      "source": [
        "Q25)  Write a code to check if the key \"city\" exists in the dictionary {'name': 'Alice', 'city': 'Paris'}."
      ],
      "metadata": {
        "id": "imm-aDbxJSq3"
      }
    },
    {
      "cell_type": "code",
      "source": [
        "dict1= {\"Name\":\"Alice\",\"City\":\"Paris\"}\n",
        "if \"City\" in dict1.keys():\n",
        "  print(\"Yes, 'City' key is present!\")\n",
        "else:\n",
        "  print(\"No, 'City' key is not present!\")"
      ],
      "metadata": {
        "colab": {
          "base_uri": "https://localhost:8080/"
        },
        "id": "JyAxH-ElJXly",
        "outputId": "db6868e9-9ae6-4f34-8fc1-7d7dcfd5d6fa"
      },
      "execution_count": null,
      "outputs": [
        {
          "output_type": "stream",
          "name": "stdout",
          "text": [
            "Yes, 'City' key is present!\n"
          ]
        }
      ]
    },
    {
      "cell_type": "markdown",
      "source": [
        "Q26)  Write a code to create a list, a tuple, and a dictionary, and print them all."
      ],
      "metadata": {
        "id": "chEAW5gzKDXx"
      }
    },
    {
      "cell_type": "code",
      "source": [
        "a,b,c=[1,2,3,4,5],(1,2,3,4,5),{\"Name\":\"Balu\",\"Age\":26,\"City\":\"New Delhi\"}\n",
        "print(f\"Created list: {a} , Created tuple: {b} , Created dictionary: {c}\")"
      ],
      "metadata": {
        "colab": {
          "base_uri": "https://localhost:8080/"
        },
        "id": "EHQVAMJ4KHtH",
        "outputId": "bc48034e-0231-4e99-fda0-61fad6e07700"
      },
      "execution_count": null,
      "outputs": [
        {
          "output_type": "stream",
          "name": "stdout",
          "text": [
            "Created list: [1, 2, 3, 4, 5] , Created tuple: (1, 2, 3, 4, 5) , Created dictionary: {'Name': 'Balu', 'Age': 26, 'City': 'New Delhi'}\n"
          ]
        }
      ]
    },
    {
      "cell_type": "markdown",
      "source": [
        "Q27)  Write a code to create a list of 5 random numbers between 1 and 100, sort it in ascending order, and print the\n",
        "result.(replaced)"
      ],
      "metadata": {
        "id": "yvZ7KFTHKlqR"
      }
    },
    {
      "cell_type": "code",
      "source": [
        "import random\n",
        "\n",
        "a=[random.randint(1,100) for i in range(5)]\n",
        "print(f\"Created List: {a}\")\n",
        "print(f\"Sorted List: {sorted(a)}\")"
      ],
      "metadata": {
        "colab": {
          "base_uri": "https://localhost:8080/"
        },
        "id": "U93KF6IeKt6b",
        "outputId": "d6989eff-1474-4c0f-94ba-da3d23ff18d8"
      },
      "execution_count": null,
      "outputs": [
        {
          "output_type": "stream",
          "name": "stdout",
          "text": [
            "Created List: [6, 1, 56, 18, 35]\n",
            "Sorted List: [1, 6, 18, 35, 56]\n"
          ]
        }
      ]
    },
    {
      "cell_type": "markdown",
      "source": [
        "Q28) Write a code to create a list with strings and print the element at the third index."
      ],
      "metadata": {
        "id": "v7tGIcVOLlIC"
      }
    },
    {
      "cell_type": "code",
      "source": [
        "city= [\"New Delhi\",\"Mumbai\",\"Hyderabad\",\"Bangalore\",\"Kochi\"]\n",
        "print(f\"Element at the third index of the list {city} is : {city[2]}\")"
      ],
      "metadata": {
        "colab": {
          "base_uri": "https://localhost:8080/"
        },
        "id": "Bgdk69HPLprz",
        "outputId": "5206e0ec-ae97-43be-99db-2d5d866e42e4"
      },
      "execution_count": null,
      "outputs": [
        {
          "output_type": "stream",
          "name": "stdout",
          "text": [
            "Element at the third index of the list ['New Delhi', 'Mumbai', 'Hyderabad', 'Bangalore', 'Kochi'] is : Hyderabad\n"
          ]
        }
      ]
    },
    {
      "cell_type": "markdown",
      "source": [
        "Q29) Write a code to combine two dictionaries into one and print the result."
      ],
      "metadata": {
        "id": "i05c8UE0L_Z9"
      }
    },
    {
      "cell_type": "code",
      "source": [
        "dict1= {\"Name\":\"Balu\",\"Age\":26}\n",
        "dict2={\"City\":\"New Delhi\",\"Course\":\"Data Analytics\"}\n",
        "dict1.update(dict2)\n",
        "print(f\"Combined Dictionary: {dict1}\")"
      ],
      "metadata": {
        "colab": {
          "base_uri": "https://localhost:8080/"
        },
        "id": "1I9tTGefMCOj",
        "outputId": "3c65716d-3b12-4b15-bfeb-d97cebd7637c"
      },
      "execution_count": null,
      "outputs": [
        {
          "output_type": "stream",
          "name": "stdout",
          "text": [
            "Combined Dictionary: {'Name': 'Balu', 'Age': 26, 'City': 'New Delhi', 'Course': 'Data Analytics'}\n"
          ]
        }
      ]
    },
    {
      "cell_type": "markdown",
      "source": [
        "Q30) Write a code to convert a list of strings into a set."
      ],
      "metadata": {
        "id": "6JtSJYazNN9H"
      }
    },
    {
      "cell_type": "code",
      "source": [
        "city= [\"New Delhi\",\"Mumbai\",\"Hyderabad\",\"Bangalore\",\"Kochi\"]\n",
        "a=set(city)\n",
        "print(a)"
      ],
      "metadata": {
        "colab": {
          "base_uri": "https://localhost:8080/"
        },
        "id": "SDllKMzkNPzE",
        "outputId": "6fc21f65-63e8-4249-a6ba-cc9c12b438fc"
      },
      "execution_count": null,
      "outputs": [
        {
          "output_type": "stream",
          "name": "stdout",
          "text": [
            "{'Mumbai', 'Kochi', 'Hyderabad', 'Bangalore', 'New Delhi'}\n"
          ]
        }
      ]
    }
  ]
}